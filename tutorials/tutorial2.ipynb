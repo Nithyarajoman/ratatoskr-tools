{
 "cells": [
  {
   "cell_type": "markdown",
   "metadata": {},
   "source": [
    "# Tutorial 2: ratatoskr GUI client\n",
    "\n",
    "In this tutorial, you will know how to use the ratatoskr GUI client, which let you to see the router heat (traffic business) of the NoC."
   ]
  },
  {
   "cell_type": "markdown",
   "metadata": {},
   "source": [
    "## Prerequisite\n",
    "\n",
    "Before the tutorial, it is required that to compile and retrieve the simulator (./sim) from the ratatoskr simulator repository. During the simulation the sim executable and the network plotting script should be provided with the same port numbers(as illustrated in the below example). This will enable multiple GUI simulations to be carried out simulatneously."
   ]
  },
  {
   "cell_type": "markdown",
   "metadata": {},
   "source": [
    "## Step 1 Network Configuration\n",
    "Create the config.ini file and generate the config.xml and network.xml files."
   ]
  },
  {
   "cell_type": "code",
   "execution_count": 1,
   "metadata": {},
   "outputs": [],
   "source": [
    "import ratatoskr_tools.networkconfig as rtcfg\n",
    "\n",
    "rtcfg.create_config_ini(\"./tutorials/example/config.ini\")\n",
    "config = rtcfg.create_configuration(\"./tutorials/example/config.ini\", \"./tutorials/example/config.xml\", \"./tutorials/example/network.xml\")"
   ]
  },
  {
   "cell_type": "markdown",
   "metadata": {},
   "source": [
    "## Step 2 Dynamic Network Plotting\n",
    "\n",
    "Use the provided API to run the ratatoskr GUI client. The function \"plot_dynamic()\" accepts the network.xml, config.xml, port address is randomly selected as 6000 (by default it would be 5555)."
   ]
  },
  {
   "cell_type": "code",
   "execution_count": null,
   "metadata": {},
   "outputs": [],
   "source": [
    "import ratatoskr_tools.networkplot as rtnplt\n",
    "\n",
    "rtnplt.plot_dynamic(\"./tutorials/example/network.xml\", \"./tutorials/example/config.ini\",\"localhost\",\"6000\")"
   ]
  },
  {
   "cell_type": "markdown",
   "metadata": {},
   "source": [
    "## Step 3 Run the simulation.\n",
    "\n",
    "Open another terminal to run the simulation, where this simulator is compiled. The same port address provided for GUI client is given here.\n",
    "\n",
    "> $ ../ratatoskr/simulator/sim --configPath=./tutorials/example/config.xml --networkPath=./tutorials/example/network.xml --outputDir=./tutorials/example --GUI_Port_address=6000\n",
    "\n",
    "The ratatoskr GUI client windows will be opened."
   ]
  },
  {
   "cell_type": "markdown",
   "metadata": {},
   "source": [
    "## Step 4 Run multiple simulations.\n",
    "\n",
    "Now multiple simulations with GUI can be done. For this create a different folder \"example2\" and perform the below for creating the input files for the simulator. When the GUI plot function is called it should be assigned to a different port address than the one used above which was 6000. An the same new port address should be given for simulation using the sim executable. "
   ]
  },
  {
   "cell_type": "code",
   "execution_count": null,
   "metadata": {},
   "outputs": [],
   "source": [
    "import ratatoskr_tools.networkconfig as rtcfg\n",
    "rtcfg.create_config_ini(\"./tutorials/example2/config.ini\")\n",
    "config = rtcfg.create_configuration(\"./tutorials/example2/config.ini\", \"./tutorials/example2/config.xml\", \"./tutorials/example2/network.xml\")\n",
    "\n",
    "import ratatoskr_tools.networkplot as rtnplt\n",
    "rtnplt.plot_dynamic(\"./tutorials/example2/network.xml\", \"./tutorials/example2/config.ini\",\"localhost\",\"7000\")\n"
   ]
  },
  {
   "cell_type": "markdown",
   "metadata": {},
   "source": [
    "The execution of the sim file to be carried out in a different terminal\n",
    "> $ ./sim --configPath=./tutorials/example2/config.xml --networkPath=./tutorials/example2/network.xml --outputDir=./tutorials/example2 --GUI_Port_address=7000"
   ]
  }
 ],
 "metadata": {
  "kernelspec": {
   "display_name": "Python 3.10.4 64-bit",
   "language": "python",
   "name": "python3"
  },
  "language_info": {
   "codemirror_mode": {
    "name": "ipython",
    "version": 3
   },
   "file_extension": ".py",
   "mimetype": "text/x-python",
   "name": "python",
   "nbconvert_exporter": "python",
   "pygments_lexer": "ipython3",
   "version": "3.10.4"
  },
  "orig_nbformat": 2,
  "vscode": {
   "interpreter": {
    "hash": "916dbcbb3f70747c44a77c7bcd40155683ae19c65e1c03b4aa3499c5328201f1"
   }
  }
 },
 "nbformat": 4,
 "nbformat_minor": 2
}
