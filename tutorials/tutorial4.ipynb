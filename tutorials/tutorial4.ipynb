{
 "cells": [
  {
   "cell_type": "markdown",
   "metadata": {},
   "source": [
    "# Tutorial 4 Running Netrace PARSEC mode\n",
    "\n",
    "In this tutorial, you will learn the step to run the simulation in PARSEC mode."
   ]
  },
  {
   "cell_type": "markdown",
   "metadata": {},
   "source": [
    "## Prerequisite\n",
    "Before this tutorial, it is required to compile and retrieve the execution simulator program \"./sim\" from the ratatoskr/simulator repository. Here, we need to add \"-DDEFINE_ENABLE_NETRACE\" while executing the cmake.\n",
    "Let's compile the simulator:\n",
    "```console\n",
    "$ cd ../ratatoskr/simulator\n",
    "$ cmake -DDEFINE_ENABLE_NETRACE=ON\n",
    "$ make\n",
    "$ cd ../../tutorials\n",
    "```\n",
    "\n",
    "Here, we set the simulator path as shown:\n"
   ]
  },
  {
   "cell_type": "code",
   "execution_count": 1,
   "metadata": {
    "execution": {
     "iopub.execute_input": "2021-03-23T08:58:20.730228Z",
     "iopub.status.busy": "2021-03-23T08:58:20.729647Z",
     "iopub.status.idle": "2021-03-23T08:58:20.733376Z",
     "shell.execute_reply": "2021-03-23T08:58:20.732636Z"
    }
   },
   "outputs": [],
   "source": [
    "SIM_PATH = \"../ratatoskr/simulator/sim\"\n",
    "SIM_PATH = \"../dummy/sim\""
   ]
  },
  {
   "cell_type": "markdown",
   "metadata": {},
   "source": [
    "## Step 1 Download the netrace file.\n",
    "Let's download and use the netrace simulation file (blackscholes_64c_simsmall) for this tutorial. For other netrace trace file, checkout https://www.cs.utexas.edu/~netrace/."
   ]
  },
  {
   "cell_type": "code",
   "execution_count": 2,
   "metadata": {
    "execution": {
     "iopub.execute_input": "2021-03-23T08:58:20.739323Z",
     "iopub.status.busy": "2021-03-23T08:58:20.738728Z",
     "iopub.status.idle": "2021-03-23T08:58:20.742510Z",
     "shell.execute_reply": "2021-03-23T08:58:20.741713Z"
    }
   },
   "outputs": [],
   "source": [
    "import os\n",
    "from subprocess import call\n",
    "\n",
    "url = \"https://www.cs.utexas.edu/~netrace/download/blackscholes_64c_simsmall.tra.bz2\"\n",
    "if not os.path.isfile(\"blackscholes_64c_simsmall.tra.bz2\"):\n",
    "    call([\"wget\", url])\n"
   ]
  },
  {
   "cell_type": "markdown",
   "metadata": {},
   "source": [
    "# Step 2 Create and edit configuration\n",
    "Due to the netrace simulation requires NoC with at least 64 cores, so we need to edit the config.ini file. The NoC layout of 8x4x2 is created. The partial edited config.ini file is shown:\n",
    "```ini\n",
    "[Hardware]\n",
    "topology = mesh\n",
    "x = [8,8]\n",
    "y = [4,4]\n",
    "z = 2\n",
    "routing = XYZ\n",
    "clockDelay = [1,1]\n",
    "```"
   ]
  },
  {
   "cell_type": "code",
   "execution_count": 3,
   "metadata": {
    "execution": {
     "iopub.execute_input": "2021-03-23T08:58:20.751428Z",
     "iopub.status.busy": "2021-03-23T08:58:20.750213Z",
     "iopub.status.idle": "2021-03-23T08:58:21.621414Z",
     "shell.execute_reply": "2021-03-23T08:58:21.620030Z"
    }
   },
   "outputs": [],
   "source": [
    "import ratatoskr_tools.networkconfig as rtcfg\n",
    "import configparser\n",
    "\n",
    "rtcfg.create_config_ini(\"./example/config.ini\")\n",
    "config = configparser.ConfigParser()\n",
    "config.read(\"./example/config.ini\")\n",
    "config[\"Hardware\"][\"x\"] = \"[8,8]\"\n",
    "config[\"Hardware\"][\"y\"] = \"[4,4]\"\n",
    "config[\"Hardware\"][\"z\"] = \"2\"\n",
    "config[\"Hardware\"][\"clockDelay\"] = \"[1,1]\"\n",
    "with open(\"./example/config.ini\", \"w\") as handle:\n",
    "    config.write(handle)\n",
    "cfg = rtcfg.create_configuration(\"./example/config.ini\", \"./example/config.xml\", \"./example/network.xml\")"
   ]
  },
  {
   "cell_type": "markdown",
   "metadata": {},
   "source": [
    "## Step 3 Run the simulation\n",
    "The function run_single_sim can accept more kwargs which are acceptable by the simulator (SIM_PATH). Here, we set the simulation time to 10000ns and start from netrace region 0. The verbosity is set to \"all\", so that you can see all the simulation step in details and this info is written to the \"log\" file (stdout)."
   ]
  },
  {
   "cell_type": "code",
   "execution_count": 4,
   "metadata": {
    "execution": {
     "iopub.execute_input": "2021-03-23T08:58:21.630903Z",
     "iopub.status.busy": "2021-03-23T08:58:21.630075Z",
     "iopub.status.idle": "2021-03-23T08:58:33.530180Z",
     "shell.execute_reply": "2021-03-23T08:58:33.529518Z"
    }
   },
   "outputs": [],
   "source": [
    "import ratatoskr_tools.simulation as rtsim\n",
    "\n",
    "rtsim.run_single_sim(SIM_PATH, \"./example/config.xml\", \"./example/network.xml\", output_dir=\"./example/\", stdout=\"./example/log\",\n",
    "    simTime=10000,\n",
    "    netraceTraceFile=\"blackscholes_64c_simsmall.tra.bz2\",\n",
    "    netraceRegion=0,\n",
    "    netraceVerbosity=\"all\"\n",
    "    )\n"
   ]
  }
 ],
 "metadata": {
  "language_info": {
   "codemirror_mode": {
    "name": "ipython",
    "version": 3
   },
   "file_extension": ".py",
   "mimetype": "text/x-python",
   "name": "python",
   "nbconvert_exporter": "python",
   "pygments_lexer": "ipython3",
   "version": "3.8.5"
  }
 },
 "nbformat": 4,
 "nbformat_minor": 2
}
