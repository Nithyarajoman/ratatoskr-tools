{
 "metadata": {
  "language_info": {
   "codemirror_mode": {
    "name": "ipython",
    "version": 3
   },
   "file_extension": ".py",
   "mimetype": "text/x-python",
   "name": "python",
   "nbconvert_exporter": "python",
   "pygments_lexer": "ipython3",
   "version": 3
  },
  "orig_nbformat": 2
 },
 "nbformat": 4,
 "nbformat_minor": 2,
 "cells": [
  {
   "source": [
    "# Tutorial 3 Settings in config.ini"
   ],
   "cell_type": "markdown",
   "metadata": {}
  },
  {
   "source": [
    "## Hardware\n",
    "\n",
    "### topology\n",
    "Available options: mesh, torus, ring\n",
    "\n",
    "### bufferDepthType\n",
    "Available options: single\n",
    "Define whether the NoC buffer type is homogeneous or heterogeneous for all routers.\n",
    "\n",
    "### bufferDepth\n",
    "This value defines the size of the buffer of each router in the homogeneous NoC.\n",
    "\n",
    "### buffersDepth\n",
    "This value defines the size of the buffer of each router in their according layer (z-dimension) in the heterogeneous NoC."
   ],
   "cell_type": "markdown",
   "metadata": {}
  },
  {
   "cell_type": "code",
   "execution_count": null,
   "metadata": {},
   "outputs": [],
   "source": []
  }
 ]
}